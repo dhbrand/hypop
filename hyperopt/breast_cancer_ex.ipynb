{
 "cells": [
  {
   "cell_type": "code",
   "execution_count": 112,
   "metadata": {},
   "outputs": [],
   "source": [
    "import numpy as np\n",
    "from sklearn import datasets\n",
    "from sklearn.model_selection import train_test_split, GridSearchCV, RandomizedSearchCV\n",
    "from sklearn.ensemble import GradientBoostingClassifier\n",
    "from sklearn.metrics import accuracy_score\n",
    "from hyperopt import tpe, rand, hp, fmin, STATUS_OK, Trials, pyll, space_eval\n",
    "from hyperopt.pyll.base import scope\n",
    "import matplotlib.pyplot as plt\n",
    "import seaborn as sns\n",
    "%matplotlib inline"
   ]
  },
  {
   "cell_type": "code",
   "execution_count": 113,
   "metadata": {},
   "outputs": [],
   "source": [
    "sns.set(style='whitegrid', rc={'figure.figsize':[10,8]})\n",
    "import warnings\n",
    "warnings.filterwarnings('ignore')"
   ]
  },
  {
   "cell_type": "code",
   "execution_count": 114,
   "metadata": {},
   "outputs": [],
   "source": [
    "bc = datasets.load_breast_cancer()\n",
    "X = bc.data\n",
    "y = bc.target\n",
    "X_train, X_test, y_train, y_test = train_test_split(X, y, test_size=0.2)"
   ]
  },
  {
   "cell_type": "code",
   "execution_count": 129,
   "metadata": {},
   "outputs": [
    {
     "data": {
      "text/plain": [
       "array(['malignant', 'benign'], dtype='<U9')"
      ]
     },
     "execution_count": 129,
     "metadata": {},
     "output_type": "execute_result"
    }
   ],
   "source": [
    "bc.feature_names\n",
    "bc.target_names"
   ]
  },
  {
   "cell_type": "markdown",
   "metadata": {},
   "source": [
    "## Grid Search"
   ]
  },
  {
   "cell_type": "code",
   "execution_count": 115,
   "metadata": {},
   "outputs": [],
   "source": [
    "param_grid = {\n",
    "    'learning_rate': np.logspace(-5, 0, 5),\n",
    "    'n_estimators': np.arange(10, 400, 50),\n",
    "    'min_samples_split': np.arange(2, 8, 1),\n",
    "    'max_depth': np.arange(1, 8, 1)\n",
    "}"
   ]
  },
  {
   "cell_type": "code",
   "execution_count": 116,
   "metadata": {},
   "outputs": [],
   "source": [
    "from sklearn.model_selection import ParameterGrid\n",
    "n_comb = len(list(ParameterGrid(param_grid)))"
   ]
  },
  {
   "cell_type": "code",
   "execution_count": 117,
   "metadata": {},
   "outputs": [
    {
     "name": "stdout",
     "output_type": "stream",
     "text": [
      "Fitting 2 folds for each of 1680 candidates, totalling 3360 fits\n"
     ]
    },
    {
     "name": "stderr",
     "output_type": "stream",
     "text": [
      "[Parallel(n_jobs=-1)]: Using backend LokyBackend with 8 concurrent workers.\n",
      "[Parallel(n_jobs=-1)]: Done  34 tasks      | elapsed:    2.6s\n",
      "[Parallel(n_jobs=-1)]: Done 184 tasks      | elapsed:    7.0s\n",
      "[Parallel(n_jobs=-1)]: Done 434 tasks      | elapsed:   19.9s\n",
      "[Parallel(n_jobs=-1)]: Done 784 tasks      | elapsed:   37.5s\n",
      "[Parallel(n_jobs=-1)]: Done 1234 tasks      | elapsed:  1.0min\n",
      "[Parallel(n_jobs=-1)]: Done 1784 tasks      | elapsed:  1.5min\n",
      "[Parallel(n_jobs=-1)]: Done 2434 tasks      | elapsed:  2.0min\n",
      "[Parallel(n_jobs=-1)]: Done 3360 out of 3360 | elapsed:  2.4min finished\n"
     ]
    },
    {
     "data": {
      "text/plain": [
       "GridSearchCV(cv=2, error_score='raise-deprecating',\n",
       "             estimator=GradientBoostingClassifier(criterion='friedman_mse',\n",
       "                                                  init=None, learning_rate=0.1,\n",
       "                                                  loss='deviance', max_depth=3,\n",
       "                                                  max_features=None,\n",
       "                                                  max_leaf_nodes=None,\n",
       "                                                  min_impurity_decrease=0.0,\n",
       "                                                  min_impurity_split=None,\n",
       "                                                  min_samples_leaf=1,\n",
       "                                                  min_samples_split=2,\n",
       "                                                  min_weight_fraction_leaf=0.0,\n",
       "                                                  n_estimators=100,\n",
       "                                                  n_iter_no...\n",
       "                                                  verbose=0, warm_start=False),\n",
       "             iid='warn', n_jobs=-1,\n",
       "             param_grid={'learning_rate': array([1.00000000e-05, 1.77827941e-04, 3.16227766e-03, 5.62341325e-02,\n",
       "       1.00000000e+00]),\n",
       "                         'max_depth': array([1, 2, 3, 4, 5, 6, 7]),\n",
       "                         'min_samples_split': array([2, 3, 4, 5, 6, 7]),\n",
       "                         'n_estimators': array([ 10,  60, 110, 160, 210, 260, 310, 360])},\n",
       "             pre_dispatch='2*n_jobs', refit=True, return_train_score=False,\n",
       "             scoring=None, verbose=1)"
      ]
     },
     "execution_count": 117,
     "metadata": {},
     "output_type": "execute_result"
    }
   ],
   "source": [
    "gridsearch = GridSearchCV(GradientBoostingClassifier(), param_grid, cv=2, verbose=1, n_jobs=-1)\n",
    "gridsearch.fit(X_train, y_train)"
   ]
  },
  {
   "cell_type": "code",
   "execution_count": 118,
   "metadata": {},
   "outputs": [
    {
     "name": "stdout",
     "output_type": "stream",
     "text": [
      "Grid Search Accuracy: 0.9473684210526315\n"
     ]
    }
   ],
   "source": [
    "y_grid = gridsearch.predict(X_test)\n",
    "print(\"Grid Search Accuracy:\", accuracy_score(y_test, y_grid))"
   ]
  },
  {
   "cell_type": "code",
   "execution_count": 119,
   "metadata": {},
   "outputs": [
    {
     "name": "stdout",
     "output_type": "stream",
     "text": [
      "Fitting 2 folds for each of 840 candidates, totalling 1680 fits\n"
     ]
    },
    {
     "name": "stderr",
     "output_type": "stream",
     "text": [
      "[Parallel(n_jobs=-1)]: Using backend LokyBackend with 8 concurrent workers.\n",
      "[Parallel(n_jobs=-1)]: Done  34 tasks      | elapsed:    3.0s\n",
      "[Parallel(n_jobs=-1)]: Done 184 tasks      | elapsed:    8.7s\n",
      "[Parallel(n_jobs=-1)]: Done 434 tasks      | elapsed:   18.9s\n",
      "[Parallel(n_jobs=-1)]: Done 784 tasks      | elapsed:   32.0s\n",
      "[Parallel(n_jobs=-1)]: Done 1234 tasks      | elapsed:   49.2s\n",
      "[Parallel(n_jobs=-1)]: Done 1680 out of 1680 | elapsed:  1.1min finished\n"
     ]
    },
    {
     "data": {
      "text/plain": [
       "RandomizedSearchCV(cv=2, error_score='raise-deprecating',\n",
       "                   estimator=GradientBoostingClassifier(criterion='friedman_mse',\n",
       "                                                        init=None,\n",
       "                                                        learning_rate=0.1,\n",
       "                                                        loss='deviance',\n",
       "                                                        max_depth=3,\n",
       "                                                        max_features=None,\n",
       "                                                        max_leaf_nodes=None,\n",
       "                                                        min_impurity_decrease=0.0,\n",
       "                                                        min_impurity_split=None,\n",
       "                                                        min_samples_leaf=1,\n",
       "                                                        min_samples_split=2,\n",
       "                                                        min_weight_fraction_leaf=0.0,\n",
       "                                                        n_estimators=100,\n",
       "                                                        n_i...\n",
       "                   param_distributions={'learning_rate': array([1.00000000e-05, 1.77827941e-04, 3.16227766e-03, 5.62341325e-02,\n",
       "       1.00000000e+00]),\n",
       "                                        'max_depth': array([1, 2, 3, 4, 5, 6, 7]),\n",
       "                                        'min_samples_split': array([2, 3, 4, 5, 6, 7]),\n",
       "                                        'n_estimators': array([ 10,  60, 110, 160, 210, 260, 310, 360])},\n",
       "                   pre_dispatch='2*n_jobs', random_state=None, refit=True,\n",
       "                   return_train_score=False, scoring=None, verbose=1)"
      ]
     },
     "execution_count": 119,
     "metadata": {},
     "output_type": "execute_result"
    }
   ],
   "source": [
    "randsearch = RandomizedSearchCV(GradientBoostingClassifier(), param_grid, n_iter=n_comb/2, cv=2, verbose=1, n_jobs=-1)\n",
    "randsearch.fit(X_train, y_train)"
   ]
  },
  {
   "cell_type": "code",
   "execution_count": 120,
   "metadata": {},
   "outputs": [
    {
     "name": "stdout",
     "output_type": "stream",
     "text": [
      "Randomized Grid Search Accuracy: 0.9473684210526315\n"
     ]
    }
   ],
   "source": [
    "y_rand = randsearch.predict(X_test)\n",
    "print(\"Randomized Grid Search Accuracy:\", accuracy_score(y_test, y_rand))"
   ]
  },
  {
   "cell_type": "code",
   "execution_count": 197,
   "metadata": {},
   "outputs": [],
   "source": [
    "def obj_func(params):\n",
    "    clf = GradientBoostingClassifier(**params)\n",
    "    clf.fit(X_train, y_train)\n",
    "    y_pred = clf.predict(X_test)\n",
    "    return accuracy_score(y_test, y_pred)\n",
    "\n",
    "space = {\n",
    "    'learning_rate': hp.lognormal('learning_rate', 0, 1),\n",
    "    'n_estimators': scope.int(hp.quniform('C', 1, 500, 1)),\n",
    "    'min_samples_split': scope.int(hp.quniform('min_samples_split', 2, 20, 1)),\n",
    "    'max_depth': scope.int(hp.qloguniform('max_depth', 0, 4, 1))\n",
    "}\n",
    "\n",
    "def f(params):\n",
    "    acc = obj_func(params)\n",
    "    return {'loss': -acc, 'status': STATUS_OK}"
   ]
  },
  {
   "cell_type": "code",
   "execution_count": 198,
   "metadata": {},
   "outputs": [
    {
     "data": {
      "text/plain": [
       "54.598150033144236"
      ]
     },
     "execution_count": 198,
     "metadata": {},
     "output_type": "execute_result"
    }
   ],
   "source": [
    "np.exp(4)"
   ]
  },
  {
   "cell_type": "code",
   "execution_count": 199,
   "metadata": {},
   "outputs": [
    {
     "data": {
      "text/plain": [
       "(array([55., 13., 12.,  2.,  4.,  2.,  2.,  5.,  2.,  3.]),\n",
       " array([ 1. ,  6.2, 11.4, 16.6, 21.8, 27. , 32.2, 37.4, 42.6, 47.8, 53. ]),\n",
       " <a list of 10 Patch objects>)"
      ]
     },
     "execution_count": 199,
     "metadata": {},
     "output_type": "execute_result"
    },
    {
     "data": {
      "image/png": "[encoded data removed]",
      "text/plain": [
       "<Figure size 720x576 with 1 Axes>"
      ]
     },
     "metadata": {},
     "output_type": "display_data"
    }
   ],
   "source": [
    "x = [pyll.stochastic.sample(scope.int(hp.qloguniform('max_depth', 0, 4, 1))) for _ in range(100)]\n",
    "plt.hist(x)"
   ]
  },
  {
   "cell_type": "code",
   "execution_count": 200,
   "metadata": {},
   "outputs": [
    {
     "name": "stdout",
     "output_type": "stream",
     "text": [
      "{'learning_rate': 0.23784976953726394, 'max_depth': 8, 'min_samples_split': 2, 'n_estimators': 472}\n"
     ]
    }
   ],
   "source": [
    "print(pyll.stochastic.sample(space))"
   ]
  },
  {
   "cell_type": "raw",
   "metadata": {},
   "source": [
    "trials = Trials()\n",
    "best_params = fmin(f, space, algo=rand.suggest, max_evals=1680, trials=trials)"
   ]
  },
  {
   "cell_type": "code",
   "execution_count": 201,
   "metadata": {},
   "outputs": [
    {
     "name": "stdout",
     "output_type": "stream",
     "text": [
      "100%|██████████| 300/300 [01:03<00:00,  4.72it/s, best loss: -0.9736842105263158]\n"
     ]
    }
   ],
   "source": [
    "trials = Trials()\n",
    "best_params = fmin(f, space, algo=tpe.suggest, max_evals=300, trials=trials)"
   ]
  },
  {
   "cell_type": "code",
   "execution_count": 124,
   "metadata": {},
   "outputs": [
    {
     "data": {
      "text/plain": [
       "{'learning_rate': 1.1919659098269777,\n",
       " 'max_depth': 1,\n",
       " 'min_samples_split': 8,\n",
       " 'n_estimators': 324}"
      ]
     },
     "execution_count": 124,
     "metadata": {},
     "output_type": "execute_result"
    }
   ],
   "source": [
    "space_eval(space, best_params)"
   ]
  },
  {
   "cell_type": "code",
   "execution_count": 125,
   "metadata": {},
   "outputs": [
    {
     "data": {
      "text/plain": [
       "{'loss': -0.9736842105263158, 'status': 'ok'}"
      ]
     },
     "execution_count": 125,
     "metadata": {},
     "output_type": "execute_result"
    }
   ],
   "source": [
    "trials.best_trial['result']"
   ]
  },
  {
   "cell_type": "code",
   "execution_count": null,
   "metadata": {},
   "outputs": [],
   "source": []
  }
 ],
 "metadata": {
  "kernelspec": {
   "display_name": "Python 3",
   "language": "python",
   "name": "python3"
  },
  "language_info": {
   "codemirror_mode": {
    "name": "ipython",
    "version": 3
   },
   "file_extension": ".py",
   "mimetype": "text/x-python",
   "name": "python",
   "nbconvert_exporter": "python",
   "pygments_lexer": "ipython3",
   "version": "3.7.3"
  }
 },
 "nbformat": 4,
 "nbformat_minor": 4
}
